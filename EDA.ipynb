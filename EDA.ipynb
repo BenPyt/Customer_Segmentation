{
 "cells": [
  {
   "cell_type": "code",
   "execution_count": 1,
   "id": "mGWfoyf6unFu",
   "metadata": {
    "colab": {
     "base_uri": "https://localhost:8080/"
    },
    "executionInfo": {
     "elapsed": 45608,
     "status": "ok",
     "timestamp": 1743258273229,
     "user": {
      "displayName": "Tan Huynh",
      "userId": "12593922711330328750"
     },
     "user_tz": -420
    },
    "id": "mGWfoyf6unFu",
    "outputId": "2c8c1db8-a7b4-47a4-9b19-f7dfac35ad0b"
   },
   "outputs": [
    {
     "name": "stdout",
     "output_type": "stream",
     "text": [
      "C:\\Spark\\spark-3.5.1-bin-hadoop3\\python\\pyspark\\__init__.py\n"
     ]
    }
   ],
   "source": [
    "import findspark\n",
    "findspark.init()\n",
    "import pyspark\n",
    "print(pyspark.__file__)"
   ]
  },
  {
   "cell_type": "code",
   "execution_count": 2,
   "id": "c6DCmDfKpdyP",
   "metadata": {
    "executionInfo": {
     "elapsed": 53767,
     "status": "ok",
     "timestamp": 1743258327016,
     "user": {
      "displayName": "Tan Huynh",
      "userId": "12593922711330328750"
     },
     "user_tz": -420
    },
    "id": "c6DCmDfKpdyP"
   },
   "outputs": [],
   "source": [
    "from pyspark.sql import SparkSession\n",
    "spark = SparkSession.builder.appName(\"Customer_Segiment\").getOrCreate()"
   ]
  },
  {
   "cell_type": "markdown",
   "id": "RsRonCptz-Cj",
   "metadata": {
    "id": "RsRonCptz-Cj"
   },
   "source": [
    "# Đọc File"
   ]
  },
  {
   "cell_type": "code",
   "execution_count": 3,
   "id": "r6WDqmLho1DU",
   "metadata": {
    "colab": {
     "base_uri": "https://localhost:8080/"
    },
    "executionInfo": {
     "elapsed": 19900,
     "status": "ok",
     "timestamp": 1743258346914,
     "user": {
      "displayName": "Tan Huynh",
      "userId": "12593922711330328750"
     },
     "user_tz": -420
    },
    "id": "r6WDqmLho1DU",
    "outputId": "f94baa44-1447-496f-d8fa-7b221fe335ba"
   },
   "outputs": [
    {
     "name": "stdout",
     "output_type": "stream",
     "text": [
      "+---------+----------------+-----+---------------+\n",
      "|productId|     productName|price|       Category|\n",
      "+---------+----------------+-----+---------------+\n",
      "|        1|  tropical fruit|  7.8|     Fresh Food|\n",
      "|        2|      whole milk|  1.8|          Dairy|\n",
      "|        3|       pip fruit|  3.0|     Fresh Food|\n",
      "|        4|other vegetables|  0.8|     Fresh Food|\n",
      "|        5|      rolls/buns|  1.2|Bakery & Sweets|\n",
      "+---------+----------------+-----+---------------+\n",
      "only showing top 5 rows\n",
      "\n"
     ]
    }
   ],
   "source": [
    "file_path = 'Products_with_Categories.csv'\n",
    "df_Products = spark.read.csv(file_path, header=True, inferSchema=True)\n",
    "df_Products.show(5)"
   ]
  },
  {
   "cell_type": "code",
   "execution_count": 4,
   "id": "yO1FlSUcpZ1D",
   "metadata": {
    "colab": {
     "base_uri": "https://localhost:8080/"
    },
    "executionInfo": {
     "elapsed": 3133,
     "status": "ok",
     "timestamp": 1743258350045,
     "user": {
      "displayName": "Tan Huynh",
      "userId": "12593922711330328750"
     },
     "user_tz": -420
    },
    "id": "yO1FlSUcpZ1D",
    "outputId": "5befb9fd-0d44-4a0e-eb42-8160651ecec0"
   },
   "outputs": [
    {
     "name": "stdout",
     "output_type": "stream",
     "text": [
      "+-------------+----------+---------+-----+\n",
      "|Member_number|      Date|productId|items|\n",
      "+-------------+----------+---------+-----+\n",
      "|         1808|21-07-2015|        1|    3|\n",
      "|         2552|05-01-2015|        2|    1|\n",
      "|         2300|19-09-2015|        3|    3|\n",
      "|         1187|12-12-2015|        4|    3|\n",
      "|         3037|01-02-2015|        2|    1|\n",
      "+-------------+----------+---------+-----+\n",
      "only showing top 5 rows\n",
      "\n"
     ]
    }
   ],
   "source": [
    "file_path_2 = 'Transactions.csv'\n",
    "df_Transactions = spark.read.csv(file_path_2, header=True, inferSchema=True)\n",
    "df_Transactions.show(5)"
   ]
  },
  {
   "cell_type": "code",
   "execution_count": 5,
   "id": "2SvE_F93rAsz",
   "metadata": {
    "colab": {
     "base_uri": "https://localhost:8080/"
    },
    "executionInfo": {
     "elapsed": 2174,
     "status": "ok",
     "timestamp": 1743258352241,
     "user": {
      "displayName": "Tan Huynh",
      "userId": "12593922711330328750"
     },
     "user_tz": -420
    },
    "id": "2SvE_F93rAsz",
    "outputId": "ce2159c4-4447-4dca-ec37-5dd4898cb01c"
   },
   "outputs": [
    {
     "name": "stdout",
     "output_type": "stream",
     "text": [
      "+---------+-------------+----------+-----+----------------+-----+----------+\n",
      "|productId|Member_number|      Date|items|     productName|price|  Category|\n",
      "+---------+-------------+----------+-----+----------------+-----+----------+\n",
      "|        1|         1808|21-07-2015|    3|  tropical fruit|  7.8|Fresh Food|\n",
      "|        2|         2552|05-01-2015|    1|      whole milk|  1.8|     Dairy|\n",
      "|        3|         2300|19-09-2015|    3|       pip fruit|  3.0|Fresh Food|\n",
      "|        4|         1187|12-12-2015|    3|other vegetables|  0.8|Fresh Food|\n",
      "|        2|         3037|01-02-2015|    1|      whole milk|  1.8|     Dairy|\n",
      "+---------+-------------+----------+-----+----------------+-----+----------+\n",
      "only showing top 5 rows\n",
      "\n"
     ]
    }
   ],
   "source": [
    "df = df_Transactions.join(df_Products, on=\"productId\", how=\"inner\")\n",
    "df.show(5)"
   ]
  },
  {
   "cell_type": "markdown",
   "id": "WeaZXRvArVgA",
   "metadata": {
    "id": "WeaZXRvArVgA"
   },
   "source": [
    "# EDA"
   ]
  },
  {
   "cell_type": "code",
   "execution_count": 6,
   "id": "7Vzkn0JKrOzs",
   "metadata": {
    "colab": {
     "base_uri": "https://localhost:8080/"
    },
    "executionInfo": {
     "elapsed": 5075,
     "status": "ok",
     "timestamp": 1743258357331,
     "user": {
      "displayName": "Tan Huynh",
      "userId": "12593922711330328750"
     },
     "user_tz": -420
    },
    "id": "7Vzkn0JKrOzs",
    "outputId": "10023074-dc09-48a7-8ddd-c863b818fddb"
   },
   "outputs": [
    {
     "name": "stdout",
     "output_type": "stream",
     "text": [
      "Schema: \n",
      "root\n",
      " |-- productId: integer (nullable = true)\n",
      " |-- Member_number: integer (nullable = true)\n",
      " |-- Date: string (nullable = true)\n",
      " |-- items: integer (nullable = true)\n",
      " |-- productName: string (nullable = true)\n",
      " |-- price: double (nullable = true)\n",
      " |-- Category: string (nullable = true)\n",
      "\n",
      "Thống kê mô tả: \n",
      "+-------+------------------+------------------+----------+------------------+--------------------+-----------------+--------------------+\n",
      "|summary|         productId|     Member_number|      Date|             items|         productName|            price|            Category|\n",
      "+-------+------------------+------------------+----------+------------------+--------------------+-----------------+--------------------+\n",
      "|  count|             38765|             38765|     38765|             38765|               38765|            38765|               38765|\n",
      "|   mean| 39.95609441506514|  3003.64186766413|      NULL| 1.996130530117374|                NULL| 4.29517038565748|                NULL|\n",
      "| stddev|37.294165696289795|1153.6110310565457|      NULL|0.8176450838329746|                NULL|4.313656118592763|                NULL|\n",
      "|    min|                 1|              1000|01-01-2014|                 1|Instant food prod...|              0.3|     Bakery & Sweets|\n",
      "|    max|               167|              5000|31-10-2015|                 3|            zwieback|             28.5|Specialty & Seasonal|\n",
      "+-------+------------------+------------------+----------+------------------+--------------------+-----------------+--------------------+\n",
      "\n"
     ]
    }
   ],
   "source": [
    "print(\"Schema: \")\n",
    "df.printSchema()\n",
    "\n",
    "print(\"Thống kê mô tả: \")\n",
    "df.describe().show()"
   ]
  },
  {
   "cell_type": "markdown",
   "id": "uxyocRdZsCrm",
   "metadata": {
    "id": "uxyocRdZsCrm"
   },
   "source": [
    "### Xử lý Null và NaN"
   ]
  },
  {
   "cell_type": "code",
   "execution_count": 7,
   "id": "JFHoT5P2rsaf",
   "metadata": {
    "colab": {
     "base_uri": "https://localhost:8080/"
    },
    "executionInfo": {
     "elapsed": 1174,
     "status": "ok",
     "timestamp": 1743258358526,
     "user": {
      "displayName": "Tan Huynh",
      "userId": "12593922711330328750"
     },
     "user_tz": -420
    },
    "id": "JFHoT5P2rsaf",
    "outputId": "65d0ba2d-5969-4a71-86bc-2b4667f60c05"
   },
   "outputs": [
    {
     "name": "stdout",
     "output_type": "stream",
     "text": [
      "+---------+-------------+----+-----+-----------+-----+--------+\n",
      "|productId|Member_number|Date|items|productName|price|Category|\n",
      "+---------+-------------+----+-----+-----------+-----+--------+\n",
      "|        0|            0|   0|    0|          0|    0|       0|\n",
      "+---------+-------------+----+-----+-----------+-----+--------+\n",
      "\n"
     ]
    }
   ],
   "source": [
    "from pyspark.sql.functions import col, isnan, when, count\n",
    "\n",
    "df.select([count(when(col(c).isNull(), c)).alias(c) for c in df.columns]).show()\n"
   ]
  },
  {
   "cell_type": "code",
   "execution_count": 8,
   "id": "HNfTT2jFsKZn",
   "metadata": {
    "colab": {
     "base_uri": "https://localhost:8080/"
    },
    "executionInfo": {
     "elapsed": 1459,
     "status": "ok",
     "timestamp": 1743258359987,
     "user": {
      "displayName": "Tan Huynh",
      "userId": "12593922711330328750"
     },
     "user_tz": -420
    },
    "id": "HNfTT2jFsKZn",
    "outputId": "3232a691-0333-49ca-ccdb-35ce5d51f597"
   },
   "outputs": [
    {
     "name": "stdout",
     "output_type": "stream",
     "text": [
      "+---------+-------------+----+-----+-----------+-----+--------+\n",
      "|productId|Member_number|Date|items|productName|price|Category|\n",
      "+---------+-------------+----+-----+-----------+-----+--------+\n",
      "|        0|            0|   0|    0|          0|    0|       0|\n",
      "+---------+-------------+----+-----+-----------+-----+--------+\n",
      "\n"
     ]
    }
   ],
   "source": [
    "df.select([count(when(isnan(c), c)).alias(c) for c in df.columns]).show()"
   ]
  },
  {
   "cell_type": "markdown",
   "id": "bIHKwe4pxt5V",
   "metadata": {
    "id": "bIHKwe4pxt5V"
   },
   "source": [
    "### Chuyển cột Date từ string sang Date"
   ]
  },
  {
   "cell_type": "code",
   "execution_count": 9,
   "id": "LWvPBGlItFpT",
   "metadata": {
    "colab": {
     "base_uri": "https://localhost:8080/"
    },
    "executionInfo": {
     "elapsed": 455,
     "status": "ok",
     "timestamp": 1743258360444,
     "user": {
      "displayName": "Tan Huynh",
      "userId": "12593922711330328750"
     },
     "user_tz": -420
    },
    "id": "LWvPBGlItFpT",
    "outputId": "87476b26-b92b-478e-d991-9cd0041a4557"
   },
   "outputs": [
    {
     "name": "stdout",
     "output_type": "stream",
     "text": [
      "+---------+-------------+----------+-----+----------------+-----+----------+\n",
      "|productId|Member_number|      Date|items|     productName|price|  Category|\n",
      "+---------+-------------+----------+-----+----------------+-----+----------+\n",
      "|        1|         1808|2015-07-21|    3|  tropical fruit|  7.8|Fresh Food|\n",
      "|        2|         2552|2015-01-05|    1|      whole milk|  1.8|     Dairy|\n",
      "|        3|         2300|2015-09-19|    3|       pip fruit|  3.0|Fresh Food|\n",
      "|        4|         1187|2015-12-12|    3|other vegetables|  0.8|Fresh Food|\n",
      "|        2|         3037|2015-02-01|    1|      whole milk|  1.8|     Dairy|\n",
      "+---------+-------------+----------+-----+----------------+-----+----------+\n",
      "only showing top 5 rows\n",
      "\n"
     ]
    }
   ],
   "source": [
    "from pyspark.sql.functions import to_date\n",
    "df = df.withColumn(\"Date\", to_date(df[\"Date\"], \"dd-MM-yyyy\"))\n",
    "df.show(5)"
   ]
  },
  {
   "cell_type": "code",
   "execution_count": 10,
   "id": "iCh7uCbryJ8S",
   "metadata": {
    "colab": {
     "base_uri": "https://localhost:8080/"
    },
    "executionInfo": {
     "elapsed": 2402,
     "status": "ok",
     "timestamp": 1743258362870,
     "user": {
      "displayName": "Tan Huynh",
      "userId": "12593922711330328750"
     },
     "user_tz": -420
    },
    "id": "iCh7uCbryJ8S",
    "outputId": "d7dbbeb1-dcac-412a-f7e4-6fbeedc43d0f"
   },
   "outputs": [
    {
     "name": "stdout",
     "output_type": "stream",
     "text": [
      "Thời điểm dữ liệu bắt đầu được ghi nhận: 2014-01-01\n",
      "Thời điểm dữ liệu kết thúc được ghi nhận: 2015-12-30\n"
     ]
    }
   ],
   "source": [
    "from pyspark.sql.functions import min, max\n",
    "\n",
    "earliest_date = df.select(min(\"Date\")).collect()[0][0]\n",
    "print(f\"Thời điểm dữ liệu bắt đầu được ghi nhận: {earliest_date}\")\n",
    "\n",
    "latest_date = df.select(max(\"Date\")).collect()[0][0]\n",
    "print(f\"Thời điểm dữ liệu kết thúc được ghi nhận: {latest_date}\")"
   ]
  },
  {
   "cell_type": "code",
   "execution_count": 11,
   "id": "2EvIXwmcS0Xa",
   "metadata": {
    "colab": {
     "base_uri": "https://localhost:8080/"
    },
    "executionInfo": {
     "elapsed": 3029,
     "status": "ok",
     "timestamp": 1743258365909,
     "user": {
      "displayName": "Tan Huynh",
      "userId": "12593922711330328750"
     },
     "user_tz": -420
    },
    "id": "2EvIXwmcS0Xa",
    "outputId": "8b5e85ea-e7d5-4709-f83b-2dd15a016ae6"
   },
   "outputs": [
    {
     "name": "stdout",
     "output_type": "stream",
     "text": [
      "Số loại sản phẩm: 11\n",
      "Số tên sản phẩm: 167\n"
     ]
    }
   ],
   "source": [
    "product_type = df.select(\"Category\").distinct().count()\n",
    "print(f\"Số loại sản phẩm: {product_type}\")\n",
    "\n",
    "product_name = df.select(\"productName\").distinct().count()\n",
    "print(f\"Số tên sản phẩm: {product_name}\")"
   ]
  },
  {
   "cell_type": "code",
   "execution_count": 12,
   "id": "SPaaRSf90_dC",
   "metadata": {
    "colab": {
     "base_uri": "https://localhost:8080/"
    },
    "executionInfo": {
     "elapsed": 3216,
     "status": "ok",
     "timestamp": 1743258369130,
     "user": {
      "displayName": "Tan Huynh",
      "userId": "12593922711330328750"
     },
     "user_tz": -420
    },
    "id": "SPaaRSf90_dC",
    "outputId": "bc3df3d1-2ae1-43b9-c4ff-9e9d2cb25cb1"
   },
   "outputs": [
    {
     "name": "stdout",
     "output_type": "stream",
     "text": [
      "Trong tổng số 167 sản phẩm thì sữa là sản phẩm có tỉ lệ bán chạy cao nhất lên đến 6.54%: \n",
      "+----------------+----------+----------+\n",
      "|     productName|total_sold|percentage|\n",
      "+----------------+----------+----------+\n",
      "|      whole milk|      5059|      6.54|\n",
      "|other vegetables|      3787|      4.89|\n",
      "|      rolls/buns|      3373|      4.36|\n",
      "|            soda|      3004|      3.88|\n",
      "|          yogurt|      2674|      3.46|\n",
      "+----------------+----------+----------+\n",
      "only showing top 5 rows\n",
      "\n"
     ]
    }
   ],
   "source": [
    "from pyspark.sql.functions import sum, col, desc, round\n",
    "\n",
    "# Tổng số sản phẩm đã bán\n",
    "total_items_sold = df.select(sum(\"items\")).collect()[0][0]\n",
    "\n",
    "# Tính tổng số lượng bán của từng sản phẩm và phần trăm so với tổng\n",
    "top_products = (\n",
    "    df.groupBy(\"productName\")\n",
    "    .agg(sum(\"items\").alias(\"total_sold\"))\n",
    "    .withColumn(\"percentage\", round((col(\"total_sold\") / total_items_sold) * 100, 2))\n",
    "    .orderBy(desc(\"total_sold\"))\n",
    ")\n",
    "\n",
    "print(\"Trong tổng số 167 sản phẩm thì sữa là sản phẩm có tỉ lệ bán chạy cao nhất lên đến 6.54%: \")\n",
    "top_products.show(5)  # Hiển thị top 10 sản phẩm bán chạy nhất"
   ]
  },
  {
   "cell_type": "code",
   "execution_count": 13,
   "id": "9zhb_sOcTKEd",
   "metadata": {
    "colab": {
     "base_uri": "https://localhost:8080/"
    },
    "executionInfo": {
     "elapsed": 896,
     "status": "ok",
     "timestamp": 1743258370029,
     "user": {
      "displayName": "Tan Huynh",
      "userId": "12593922711330328750"
     },
     "user_tz": -420
    },
    "id": "9zhb_sOcTKEd",
    "outputId": "afc27208-07d1-467e-cd8f-b274cbf9e1ae"
   },
   "outputs": [
    {
     "name": "stdout",
     "output_type": "stream",
     "text": [
      "Trong tổng số 11 loại sản phẩm thì thực phẩm tươi là loại sản phẩm có tỉ lệ bán chạy cao nhất lên đến 29.63%: \n",
      "+--------------------+----------+----------+\n",
      "|            Category|total_sold|percentage|\n",
      "+--------------------+----------+----------+\n",
      "|          Fresh Food|     22927|     29.63|\n",
      "|               Dairy|     15115|     19.53|\n",
      "|           Beverages|     12030|     15.55|\n",
      "|     Bakery & Sweets|     11867|     15.34|\n",
      "| Household & Hygiene|      4357|      5.63|\n",
      "|Frozen & Processe...|      3695|      4.78|\n",
      "|      Pantry Staples|      3138|      4.06|\n",
      "|Specialty & Seasonal|      2368|      3.06|\n",
      "|              Snacks|       930|       1.2|\n",
      "|            Pet Care|       641|      0.83|\n",
      "|       Personal Care|       312|       0.4|\n",
      "+--------------------+----------+----------+\n",
      "\n"
     ]
    }
   ],
   "source": [
    "type_items_sold = (\n",
    "    df.groupBy(\"Category\")\n",
    "    .agg(sum(\"items\").alias(\"total_sold\"))\n",
    "    .withColumn(\"percentage\", round((col(\"total_sold\") / total_items_sold) * 100, 2))\n",
    "    .orderBy(desc(\"total_sold\"))\n",
    ")\n",
    "\n",
    "print(\"Trong tổng số 11 loại sản phẩm thì thực phẩm tươi là loại sản phẩm có tỉ lệ bán chạy cao nhất lên đến 29.63%: \")\n",
    "type_items_sold.show()  # Hiển thị top 10 sản phẩm"
   ]
  },
  {
   "cell_type": "code",
   "execution_count": 14,
   "id": "rBkm86Hdz7QJ",
   "metadata": {
    "colab": {
     "base_uri": "https://localhost:8080/"
    },
    "executionInfo": {
     "elapsed": 2380,
     "status": "ok",
     "timestamp": 1743258372456,
     "user": {
      "displayName": "Tan Huynh",
      "userId": "12593922711330328750"
     },
     "user_tz": -420
    },
    "id": "rBkm86Hdz7QJ",
    "outputId": "ab61478b-5ffd-4f18-c977-55b86140c406"
   },
   "outputs": [
    {
     "name": "stdout",
     "output_type": "stream",
     "text": [
      "Tổng số khách hàng đã ghé: 3898\n",
      "Tổng số sản phẩm đã bán được: 77380\n",
      "Tổng doanh thu của cửa hàng: 332159.6299999853\n"
     ]
    }
   ],
   "source": [
    "from pyspark.sql.functions import countDistinct, sum\n",
    "\n",
    "# Tổng số khách hàng duy nhất\n",
    "total_customers = df.select(countDistinct(\"Member_number\")).collect()[0][0]\n",
    "\n",
    "# Tổng số sản phẩm đã bán\n",
    "total_products_sold = df.select(sum(\"items\")).collect()[0][0]\n",
    "\n",
    "# Tổng doanh thu\n",
    "total_price = df.select(sum(col(\"price\") * col(\"items\"))).collect()[0][0]\n",
    "\n",
    "\n",
    "print(f\"Tổng số khách hàng đã ghé: {total_customers}\")\n",
    "print(f\"Tổng số sản phẩm đã bán được: {total_products_sold}\")\n",
    "print(f\"Tổng doanh thu của cửa hàng: {total_price}\")"
   ]
  },
  {
   "cell_type": "code",
   "execution_count": 15,
   "id": "oopz-2LvUAaV",
   "metadata": {
    "colab": {
     "base_uri": "https://localhost:8080/"
    },
    "executionInfo": {
     "elapsed": 1414,
     "status": "ok",
     "timestamp": 1743258373871,
     "user": {
      "displayName": "Tan Huynh",
      "userId": "12593922711330328750"
     },
     "user_tz": -420
    },
    "id": "oopz-2LvUAaV",
    "outputId": "cdde015d-297b-474f-abd4-b8b5e91d18ec"
   },
   "outputs": [
    {
     "name": "stdout",
     "output_type": "stream",
     "text": [
      "+-------+----------------+\n",
      "|   Date|Total_Items_Sold|\n",
      "+-------+----------------+\n",
      "| 2014-5|            3266|\n",
      "|2014-10|            3204|\n",
      "| 2014-7|            3158|\n",
      "| 2014-6|            3112|\n",
      "| 2014-8|            3104|\n",
      "| 2014-1|            3091|\n",
      "| 2014-4|            3074|\n",
      "|2014-12|            2975|\n",
      "|2014-11|            2946|\n",
      "| 2014-9|            2945|\n",
      "| 2014-2|            2829|\n",
      "| 2014-3|            2791|\n",
      "+-------+----------------+\n",
      "\n"
     ]
    }
   ],
   "source": [
    "from pyspark.sql.functions import year, month, concat, lit, sum\n",
    "\n",
    "# Lọc dữ liệu năm 2014\n",
    "monthly_sales_2014 = df.filter(year(\"Date\") == 2014)\n",
    "\n",
    "# Tạo cột Date dạng YYYY-MM\n",
    "monthly_sales_2014 = monthly_sales_2014.withColumn(\"Date\", concat(year(\"Date\"), lit(\"-\"), month(\"Date\")))\n",
    "\n",
    "# Tính tổng số sản phẩm bán theo Date\n",
    "monthly_sales_2014 = monthly_sales_2014.groupBy(\"Date\") \\\n",
    "                        .agg(sum(\"items\").alias(\"Total_Items_Sold\")) \\\n",
    "                        .orderBy(\"Total_Items_Sold\", ascending=False)\n",
    "monthly_sales_2014.show()\n"
   ]
  },
  {
   "cell_type": "code",
   "execution_count": 16,
   "id": "snzI0waIRsZ6",
   "metadata": {
    "colab": {
     "base_uri": "https://localhost:8080/"
    },
    "executionInfo": {
     "elapsed": 1937,
     "status": "ok",
     "timestamp": 1743258421610,
     "user": {
      "displayName": "Tan Huynh",
      "userId": "12593922711330328750"
     },
     "user_tz": -420
    },
    "id": "snzI0waIRsZ6",
    "outputId": "775751bc-486b-4306-d6b3-f41494703391"
   },
   "outputs": [
    {
     "name": "stdout",
     "output_type": "stream",
     "text": [
      "+-------+----------------+\n",
      "|   Date|Total_Items_Sold|\n",
      "+-------+----------------+\n",
      "| 2015-8|            3846|\n",
      "| 2015-1|            3630|\n",
      "| 2015-5|            3596|\n",
      "|2015-11|            3547|\n",
      "| 2015-7|            3442|\n",
      "| 2015-3|            3420|\n",
      "| 2015-6|            3383|\n",
      "| 2015-4|            3375|\n",
      "|2015-10|            3313|\n",
      "| 2015-9|            3162|\n",
      "| 2015-2|            3125|\n",
      "|2015-12|            3046|\n",
      "+-------+----------------+\n",
      "\n"
     ]
    }
   ],
   "source": [
    "from pyspark.sql.functions import year, month, concat, lit, sum\n",
    "\n",
    "# Lọc dữ liệu năm 2014\n",
    "monthly_sales_2015 = df.filter(year(\"Date\") == 2015)\n",
    "\n",
    "# Tạo cột Date dạng YYYY-MM\n",
    "monthly_sales_2015 = monthly_sales_2015.withColumn(\"Date\", concat(year(\"Date\"), lit(\"-\"), month(\"Date\")))\n",
    "\n",
    "# Tính tổng số sản phẩm bán theo Date\n",
    "monthly_sales_2015 = monthly_sales_2015.groupBy(\"Date\") \\\n",
    "                        .agg(sum(\"items\").alias(\"Total_Items_Sold\")) \\\n",
    "                        .orderBy(\"Total_Items_Sold\", ascending=False)\n",
    "monthly_sales_2015.show()"
   ]
  },
  {
   "cell_type": "markdown",
   "id": "LSZ0Ynoyvdu7",
   "metadata": {
    "id": "LSZ0Ynoyvdu7"
   },
   "source": [
    "### RFM"
   ]
  },
  {
   "cell_type": "code",
   "execution_count": 17,
   "id": "6bY23Tgn3CVA",
   "metadata": {
    "colab": {
     "base_uri": "https://localhost:8080/"
    },
    "executionInfo": {
     "elapsed": 2131,
     "status": "ok",
     "timestamp": 1743258376583,
     "user": {
      "displayName": "Tan Huynh",
      "userId": "12593922711330328750"
     },
     "user_tz": -420
    },
    "id": "6bY23Tgn3CVA",
    "outputId": "1ff2cf0a-24f1-499b-bea9-0b99def0b88a"
   },
   "outputs": [
    {
     "name": "stdout",
     "output_type": "stream",
     "text": [
      "+-------------+-------+---------+--------+\n",
      "|Member_number|Recency|Frequency|Monetary|\n",
      "+-------------+-------+---------+--------+\n",
      "|         1959|     17|       19|   160.6|\n",
      "|         1088|     30|        9|   58.75|\n",
      "|         4818|    285|        8|    43.5|\n",
      "|         2659|     22|       16|  172.97|\n",
      "|         1580|     25|       16|   53.35|\n",
      "+-------------+-------+---------+--------+\n",
      "only showing top 5 rows\n",
      "\n"
     ]
    }
   ],
   "source": [
    "from pyspark.sql.functions import col, datediff, count, sum, max, lit\n",
    "\n",
    "# Xác định ngày gần nhất trong dataset\n",
    "max_date = df.select(max(col(\"Date\"))).collect()[0][0]\n",
    "\n",
    "# Tính toán RFM\n",
    "rfm_df = df.groupBy(\"Member_number\").agg(\n",
    "    datediff(lit(max_date), max(col(\"Date\"))).alias(\"Recency\"),  # Ngày gần nhất mua hàng\n",
    "    count(\"productId\").alias(\"Frequency\"),  # Số lần mua hàng\n",
    "    round(sum(col(\"price\") * col(\"items\")), 2).alias(\"Monetary\")  # Tổng tiền đã chi tiêu\n",
    ")\n",
    "\n",
    "rfm_df.show(5)"
   ]
  },
  {
   "cell_type": "code",
   "execution_count": 18,
   "id": "QqnwTb5I0Cpb",
   "metadata": {
    "colab": {
     "base_uri": "https://localhost:8080/"
    },
    "executionInfo": {
     "elapsed": 820,
     "status": "ok",
     "timestamp": 1743258377402,
     "user": {
      "displayName": "Tan Huynh",
      "userId": "12593922711330328750"
     },
     "user_tz": -420
    },
    "id": "QqnwTb5I0Cpb",
    "outputId": "568d2cd0-79c3-4c9c-f185-c29dfabc88fc"
   },
   "outputs": [
    {
     "name": "stdout",
     "output_type": "stream",
     "text": [
      "Số entries (Khách Hàng): 3898\n",
      "Số attributes: 4\n"
     ]
    }
   ],
   "source": [
    "num_entries = rfm_df.count()\n",
    "print(f\"Số entries (Khách Hàng): {num_entries}\")\n",
    "num_attributes = len(rfm_df.columns)\n",
    "print(f\"Số attributes: {num_attributes}\")\n"
   ]
  },
  {
   "cell_type": "code",
   "execution_count": 19,
   "id": "74S928fuAtOE",
   "metadata": {
    "colab": {
     "base_uri": "https://localhost:8080/"
    },
    "executionInfo": {
     "elapsed": 1212,
     "status": "ok",
     "timestamp": 1743258378625,
     "user": {
      "displayName": "Tan Huynh",
      "userId": "12593922711330328750"
     },
     "user_tz": -420
    },
    "id": "74S928fuAtOE",
    "outputId": "10cb7935-db54-4144-ec48-1be6b1cbd6c0"
   },
   "outputs": [
    {
     "name": "stdout",
     "output_type": "stream",
     "text": [
      "+-------------+-------+---------+--------+\n",
      "|Member_number|Recency|Frequency|Monetary|\n",
      "+-------------+-------+---------+--------+\n",
      "|         2433|      3|       31|  375.31|\n",
      "|         2193|     91|       27|  361.45|\n",
      "|         1793|     26|       25|   345.1|\n",
      "|         3289|      4|       29|  334.15|\n",
      "|         2743|    142|       17|  312.46|\n",
      "+-------------+-------+---------+--------+\n",
      "only showing top 5 rows\n",
      "\n"
     ]
    }
   ],
   "source": [
    "rfm_df = rfm_df.sort(\"Monetary\", ascending = False)\n",
    "rfm_df.show(5)"
   ]
  },
  {
   "cell_type": "code",
   "execution_count": 20,
   "id": "3JgbVPiMBpIO",
   "metadata": {
    "colab": {
     "base_uri": "https://localhost:8080/",
     "height": 486
    },
    "executionInfo": {
     "elapsed": 6215,
     "status": "ok",
     "timestamp": 1743258384853,
     "user": {
      "displayName": "Tan Huynh",
      "userId": "12593922711330328750"
     },
     "user_tz": -420
    },
    "id": "3JgbVPiMBpIO",
    "outputId": "22826721-ae0e-416a-a109-afc4f17bde96"
   },
   "outputs": [
    {
     "data": {
      "image/png": "[encoded data removed]",
      "text/plain": [
       "<Figure size 640x480 with 3 Axes>"
      ]
     },
     "metadata": {},
     "output_type": "display_data"
    }
   ],
   "source": [
    "import matplotlib.pyplot as plt\n",
    "\n",
    "# Chuyển đổi DataFrame PySpark thành Pandas\n",
    "rfm_pd = rfm_df.toPandas()\n",
    "\n",
    "# Vẽ phân phối của 'Recency'\n",
    "plt.subplot(3, 1, 1)  # 3 hàng, 1 cột, vị trí thứ nhất\n",
    "plt.hist(rfm_pd['Recency'], bins=20, edgecolor='black')\n",
    "plt.title('Distribution of Recency')\n",
    "plt.xlabel('Recency')\n",
    "\n",
    "# Vẽ phân phối của 'Frequency'\n",
    "plt.subplot(3, 1, 2)  # 3 hàng, 1 cột, vị trí thứ hai\n",
    "plt.hist(rfm_pd['Frequency'], bins=20, edgecolor='black')\n",
    "plt.title('Distribution of Frequency')\n",
    "plt.xlabel('Frequency')\n",
    "\n",
    "# Vẽ phân phối của 'Monetary'\n",
    "plt.subplot(3, 1, 3)  # 3 hàng, 1 cột, vị trí thứ ba\n",
    "plt.hist(rfm_pd['Monetary'], bins=20, edgecolor='black')\n",
    "plt.title('Distribution of Monetary')\n",
    "plt.xlabel('Monetary')\n",
    "\n",
    "plt.tight_layout()\n",
    "plt.show()\n"
   ]
  },
  {
   "cell_type": "code",
   "execution_count": 21,
   "id": "yzApWA0twPgW",
   "metadata": {
    "colab": {
     "base_uri": "https://localhost:8080/"
    },
    "executionInfo": {
     "elapsed": 4802,
     "status": "ok",
     "timestamp": 1743258389656,
     "user": {
      "displayName": "Tan Huynh",
      "userId": "12593922711330328750"
     },
     "user_tz": -420
    },
    "id": "yzApWA0twPgW",
    "outputId": "b820fa86-7b65-4fd4-9f60-36da4cdf5776"
   },
   "outputs": [
    {
     "name": "stdout",
     "output_type": "stream",
     "text": [
      "+-------------+-------+---------+--------+---+---+---+\n",
      "|Member_number|Recency|Frequency|Monetary|  R|  F|  M|\n",
      "+-------------+-------+---------+--------+---+---+---+\n",
      "|         2433|      3|       31|  375.31|  4|  4|  4|\n",
      "|         2193|     91|       27|  361.45|  3|  4|  4|\n",
      "|         1793|     26|       25|   345.1|  4|  4|  4|\n",
      "|         3289|      4|       29|  334.15|  4|  4|  4|\n",
      "|         2743|    142|       17|  312.46|  2|  4|  4|\n",
      "+-------------+-------+---------+--------+---+---+---+\n",
      "only showing top 5 rows\n",
      "\n"
     ]
    }
   ],
   "source": [
    "from pyspark.sql.functions import col, when\n",
    "from pyspark.sql import Window\n",
    "# Xác định nhãn cho R, F, M\n",
    "r_labels = [4, 3, 2, 1]  # Recency: nhỏ hơn thì điểm cao hơn\n",
    "f_labels = [1, 2, 3, 4]  # Frequency: lớn hơn thì điểm cao hơn\n",
    "m_labels = [1, 2, 3, 4]  # Monetary: lớn hơn thì điểm cao hơn\n",
    "\n",
    "# Hàm gán điểm RFM\n",
    "def assign_rfm_labels(df, column, labels, new_column_name):\n",
    "    quantiles = df.approxQuantile(column, [0.25, 0.5, 0.75], 0)\n",
    "    return df.withColumn(\n",
    "        new_column_name,\n",
    "        when(col(column) <= quantiles[0], labels[0])\n",
    "        .when(col(column) <= quantiles[1], labels[1])\n",
    "        .when(col(column) <= quantiles[2], labels[2])\n",
    "        .otherwise(labels[3])\n",
    "    )\n",
    "\n",
    "# Áp dụng cho từng cột\n",
    "rfm_df = assign_rfm_labels(rfm_df, \"Recency\", r_labels, \"R\")\n",
    "rfm_df = assign_rfm_labels(rfm_df, \"Frequency\", f_labels, \"F\")\n",
    "rfm_df = assign_rfm_labels(rfm_df, \"Monetary\", m_labels, \"M\")\n",
    "\n",
    "# Hiển thị kết quả\n",
    "rfm_df.show(5)\n"
   ]
  },
  {
   "cell_type": "code",
   "execution_count": 22,
   "id": "lNeKbxFjNMrp",
   "metadata": {
    "executionInfo": {
     "elapsed": 1480,
     "status": "ok",
     "timestamp": 1743258391146,
     "user": {
      "displayName": "Tan Huynh",
      "userId": "12593922711330328750"
     },
     "user_tz": -420
    },
    "id": "lNeKbxFjNMrp"
   },
   "outputs": [],
   "source": [
    "rfm_pandas = rfm_df.toPandas()\n",
    "rfm_pandas.to_csv(\"rfm_output.csv\", index=False)"
   ]
  },
  {
   "cell_type": "code",
   "execution_count": 23,
   "id": "dc3fef97",
   "metadata": {},
   "outputs": [
    {
     "name": "stdout",
     "output_type": "stream",
     "text": [
      "+---------+-------------+----------+-----+----------------+-----+----------+\n",
      "|productId|Member_number|      Date|items|     productName|price|  Category|\n",
      "+---------+-------------+----------+-----+----------------+-----+----------+\n",
      "|        1|         1808|21-07-2015|    3|  tropical fruit|  7.8|Fresh Food|\n",
      "|        2|         2552|05-01-2015|    1|      whole milk|  1.8|     Dairy|\n",
      "|        3|         2300|19-09-2015|    3|       pip fruit|  3.0|Fresh Food|\n",
      "|        4|         1187|12-12-2015|    3|other vegetables|  0.8|Fresh Food|\n",
      "|        2|         3037|01-02-2015|    1|      whole milk|  1.8|     Dairy|\n",
      "+---------+-------------+----------+-----+----------------+-----+----------+\n",
      "only showing top 5 rows\n",
      "\n"
     ]
    }
   ],
   "source": [
    "df = df_Transactions.join(df_Products, on=\"productId\", how=\"inner\")\n",
    "df.show(5)"
   ]
  },
  {
   "cell_type": "code",
   "execution_count": 24,
   "id": "e2481a29",
   "metadata": {},
   "outputs": [],
   "source": [
    "df = df.toPandas()\n",
    "df.to_csv(\"dataframe_total.csv\", index = False)"
   ]
  },
  {
   "cell_type": "code",
   "execution_count": 39,
   "id": "8014a3c3",
   "metadata": {},
   "outputs": [],
   "source": [
    "# 1. Tổng số lượng bán cho từng sản phẩm\n",
    "df_product_sales = df.groupby([\"productName\", \"productId\"])[\"items\"].sum().reset_index(name=\"counts\")\n",
    "df_product_sales.to_csv(\"df_product_sales.csv\", index=False)\n",
    "# 2. Tổng số lượng theo Category\n",
    "df_category_sales = df.groupby(\"Category\")[\"items\"].sum().reset_index(name=\"count_cat\")\n",
    "df_category_sales.to_csv(\"df_category_sales.csv\", index=False)"
   ]
  },
  {
   "cell_type": "code",
   "execution_count": null,
   "id": "ce0d9378",
   "metadata": {},
   "outputs": [],
   "source": []
  }
 ],
 "metadata": {
  "colab": {
   "provenance": []
  },
  "kernelspec": {
   "display_name": "Python 3",
   "language": "python",
   "name": "python3"
  },
  "language_info": {
   "codemirror_mode": {
    "name": "ipython",
    "version": 3
   },
   "file_extension": ".py",
   "mimetype": "text/x-python",
   "name": "python",
   "nbconvert_exporter": "python",
   "pygments_lexer": "ipython3",
   "version": "3.11.9"
  }
 },
 "nbformat": 4,
 "nbformat_minor": 5
}
